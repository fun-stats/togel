{
  "nbformat": 4,
  "nbformat_minor": 0,
  "metadata": {
    "colab": {
      "provenance": []
    },
    "kernelspec": {
      "name": "python3",
      "display_name": "Python 3"
    },
    "language_info": {
      "name": "python"
    }
  },
  "cells": [
    {
      "cell_type": "code",
      "execution_count": 1,
      "metadata": {
        "colab": {
          "base_uri": "https://localhost:8080/"
        },
        "id": "GIvxa472sIoV",
        "outputId": "8fa098af-5abe-4aea-edca-b4f03313f6e3"
      },
      "outputs": [
        {
          "output_type": "stream",
          "name": "stdout",
          "text": [
            "Iterasi 33 - Cocokan Historis: [('4308', 22)]\n",
            "Iterasi 49 - Cocokan Historis: [('2766', 21)]\n",
            "Iterasi 86 - Cocokan Historis: [('2196', 22)]\n",
            "Jumlah iterasi dengan angka yang cocok: 3 dari 100 iterasi.\n",
            "Winrate: 3.0%\n"
          ]
        }
      ],
      "source": [
        "'''\n",
        "Analisis Probabilistik Hasil Togel Hongkong Pool Berdasarkan Simulasi Monte Carlo\n",
        "https://hongkongpools.com/\n",
        "'''\n",
        "\n",
        "import random\n",
        "import csv\n",
        "from collections import Counter\n",
        "\n",
        "# Jumlah iterasi simulasi Monte Carlo\n",
        "jumlah_iterasi = 100\n",
        "jumlah_angka_per_iterasi = 100_000\n",
        "top_n = 20\n",
        "\n",
        "# Data historis 10 hari terakhir (pastikan dalam bentuk string 4 digit)\n",
        "data_asli = [\"1943\", \"3627\", \"0076\", \"4121\", \"2738\", \"3889\", \"5966\", \"1297\", \"9246\", \"7689\", # <= 4 digit awal\n",
        "            \"4308\", \"2766\", \"7680\", \"2196\", \"3832\", \"8941\", \"6627\", \"9761\", \"4645\", \"8961\"] # <= 4 digit akhir\n",
        "\n",
        "# Variabel untuk menyimpan jumlah kemenangan\n",
        "jumlah_win = 0\n",
        "\n",
        "# Siapkan file CSV untuk menyimpan hasil top_angka\n",
        "with open('top_angka.csv', mode='w', newline='') as file:\n",
        "    writer = csv.writer(file)\n",
        "    writer.writerow(['Iterasi', 'Top Angka'])  # Menulis header\n",
        "\n",
        "    # Jalankan simulasi sebanyak jumlah_iterasi\n",
        "    for iterasi in range(jumlah_iterasi):\n",
        "        # Simulasikan 100.000 angka acak\n",
        "        hasil_simulasi = [str(random.randint(0, 9999)).zfill(4) for _ in range(jumlah_angka_per_iterasi)]\n",
        "        frekuensi = Counter(hasil_simulasi)\n",
        "        top_angka = [angka for angka, _ in frekuensi.most_common(top_n)]\n",
        "\n",
        "        # Simpan hasil top_angka ke file CSV\n",
        "        writer.writerow([iterasi + 1, ', '.join(top_angka)])\n",
        "\n",
        "        # Cek apakah ada angka yang cocok dengan data historis dalam top 20\n",
        "        cocokan_historis = [(angka, jumlah) for angka, jumlah in zip(top_angka, [frekuensi[angka] for angka in top_angka]) if angka in data_asli]\n",
        "\n",
        "        # Jika ada angka yang cocok, hitung sebagai kemenangan\n",
        "        if cocokan_historis:\n",
        "            print(f\"Iterasi {iterasi + 1} - Cocokan Historis: {cocokan_historis}\")\n",
        "            jumlah_win += 1\n",
        "\n",
        "# Hitung winrate\n",
        "winrate = (jumlah_win / jumlah_iterasi) * 100\n",
        "\n",
        "# Tampilkan hasil\n",
        "print(f\"Jumlah iterasi dengan angka yang cocok: {jumlah_win} dari {jumlah_iterasi} iterasi.\")\n",
        "print(f\"Winrate: {winrate}%\")"
      ]
    }
  ]
}