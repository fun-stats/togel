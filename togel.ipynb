{
  "nbformat": 4,
  "nbformat_minor": 0,
  "metadata": {
    "colab": {
      "provenance": []
    },
    "kernelspec": {
      "name": "python3",
      "display_name": "Python 3"
    },
    "language_info": {
      "name": "python"
    }
  },
  "cells": [
    {
      "cell_type": "code",
      "execution_count": 1,
      "metadata": {
        "colab": {
          "base_uri": "https://localhost:8080/"
        },
        "id": "GIvxa472sIoV",
        "outputId": "f8301547-5476-4b41-f167-69d8f848139b"
      },
      "outputs": [
        {
          "output_type": "stream",
          "name": "stdout",
          "text": [
            "Iterasi 1 - Cocokan Historis: [('4964', 78)]\n",
            "Iterasi 2 - Cocokan Historis: [('0174', 83)]\n",
            "Iterasi 3 - Cocokan Historis: [('2953', 77)]\n",
            "Iterasi 5 - Cocokan Historis: [('2591', 77)]\n",
            "Iterasi 6 - Cocokan Historis: [('2953', 71)]\n",
            "Jumlah iterasi dengan angka yang cocok: 5 dari 10 iterasi.\n",
            "Winrate: 50.0%\n"
          ]
        }
      ],
      "source": [
        "'''\n",
        "Analisis Probabilistik Hasil Togel Hongkong Pool Berdasarkan Simulasi Monte Carlo\n",
        "https://hongkongpools.com/\n",
        "'''\n",
        "\n",
        "import random\n",
        "import csv\n",
        "from collections import Counter\n",
        "\n",
        "# Jumlah iterasi simulasi Monte Carlo\n",
        "jumlah_iterasi = 10\n",
        "jumlah_angka_per_iterasi = 500_000\n",
        "top_n = 20\n",
        "\n",
        "# Data historis tahun 2025\n",
        "data_asli = [\n",
        "    \"5760\", \"0279\", \"9006\", \"0141\", \"6393\", \"2704\", \"5386\",\n",
        "    \"8962\", \"4578\", \"3045\", \"2953\", \"6474\", \"9781\", \"7268\",\n",
        "    \"9773\", \"8336\", \"5046\", \"6293\", \"0682\", \"3900\", \"2763\",\n",
        "    \"3572\", \"7344\", \"2576\", \"9097\", \"5282\", \"4689\", \"0893\",\n",
        "    \"7610\", \"7402\", \"6964\", \"2301\", \"8565\", \"8648\", \"3056\",\n",
        "    \"0174\", \"9220\", \"3858\", \"9081\", \"0676\", \"4705\", \"0541\",\n",
        "    \"8224\", \"0194\", \"3116\", \"1042\", \"0491\", \"2879\", \"9665\",\n",
        "    \"6901\", \"5216\", \"1695\", \"8506\", \"4492\", \"7583\", \"2300\",\n",
        "    \"9064\", \"6848\", \"0919\", \"5171\", \"8785\", \"1422\", \"4360\",\n",
        "    \"6584\", \"5958\", \"3074\", \"1808\", \"7796\", \"3573\", \"5180\",\n",
        "    \"6364\", \"8496\", \"9619\", \"1765\", \"0305\", \"4802\", \"1537\",\n",
        "    \"7188\", \"2067\", \"9378\", \"3424\", \"4964\", \"0540\", \"4056\",\n",
        "    \"9793\", \"6255\", \"3723\", \"8437\", \"0516\", \"4931\", \"1834\",\n",
        "    \"9182\", \"5223\", \"6818\", \"2591\", \"7532\", \"1065\", \"8482\",\n",
        "    \"3976\", \"7020\", \"9150\", \"1744\", \"5807\", \"0373\", \"6213\",\n",
        "    \"8961\", \"4645\", \"9761\", \"6627\", \"8941\", \"3832\", \"2196\",\n",
        "    \"7680\", \"2766\", \"4308\"\n",
        "]\n",
        "\n",
        "# Variabel untuk menyimpan jumlah kemenangan\n",
        "jumlah_win = 0\n",
        "\n",
        "# Siapkan file CSV untuk menyimpan hasil top_angka\n",
        "with open('top_angka.csv', mode='w', newline='') as file:\n",
        "    writer = csv.writer(file)\n",
        "    writer.writerow(['Iterasi', 'Top Angka'])  # Menulis header\n",
        "\n",
        "    # Jalankan simulasi sebanyak jumlah_iterasi\n",
        "    for iterasi in range(jumlah_iterasi):\n",
        "        # Simulasikan 100.000 angka acak\n",
        "        hasil_simulasi = [str(random.randint(0, 9999)).zfill(4) for _ in range(jumlah_angka_per_iterasi)]\n",
        "        frekuensi = Counter(hasil_simulasi)\n",
        "        top_angka = [angka for angka, _ in frekuensi.most_common(top_n)]\n",
        "\n",
        "        # Simpan hasil top_angka ke file CSV\n",
        "        writer.writerow([iterasi + 1, ', '.join(top_angka)])\n",
        "\n",
        "        # Cek apakah ada angka yang cocok dengan data historis dalam top 20\n",
        "        cocokan_historis = [(angka, jumlah) for angka, jumlah in zip(top_angka, [frekuensi[angka] for angka in top_angka]) if angka in data_asli]\n",
        "\n",
        "        # Jika ada angka yang cocok, hitung sebagai kemenangan\n",
        "        if cocokan_historis:\n",
        "            print(f\"Iterasi {iterasi + 1} - Cocokan Historis: {cocokan_historis}\")\n",
        "            jumlah_win += 1\n",
        "\n",
        "# Hitung winrate\n",
        "winrate = (jumlah_win / jumlah_iterasi) * 100\n",
        "\n",
        "# Tampilkan hasil\n",
        "print(f\"Jumlah iterasi dengan angka yang cocok: {jumlah_win} dari {jumlah_iterasi} iterasi.\")\n",
        "print(f\"Winrate: {winrate}%\")\n"
      ]
    }
  ]
}